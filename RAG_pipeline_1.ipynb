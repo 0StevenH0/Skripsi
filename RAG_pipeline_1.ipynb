{
 "cells": [
  {
   "cell_type": "code",
   "execution_count": 60,
   "id": "0f161042",
   "metadata": {
    "scrolled": true
   },
   "outputs": [],
   "source": [
    "from transformers import BertTokenizer, TFBertModel,BertForQuestionAnswering,BertForMaskedLM,BertModel\n",
    "from transformers import T5ForConditionalGeneration, T5Tokenizer\n",
    "from transformers import pipeline\n",
    "import logging\n",
    "import tensorflow as tf\n",
    "import torch\n",
    "from nltk.tokenize import sent_tokenize\n",
    "import faiss\n",
    "import numpy as np\n",
    "\n",
    "logging.getLogger(\"transformers.modeling_utils\").setLevel(logging.WARNING)"
   ]
  },
  {
   "cell_type": "code",
   "execution_count": 61,
   "id": "499a3e02",
   "metadata": {},
   "outputs": [
    {
     "name": "stderr",
     "output_type": "stream",
     "text": [
      "Some weights of the model checkpoint at bert-large-uncased-whole-word-masking-finetuned-squad were not used when initializing BertForQuestionAnswering: ['bert.pooler.dense.weight', 'bert.pooler.dense.bias']\n",
      "- This IS expected if you are initializing BertForQuestionAnswering from the checkpoint of a model trained on another task or with another architecture (e.g. initializing a BertForSequenceClassification model from a BertForPreTraining model).\n",
      "- This IS NOT expected if you are initializing BertForQuestionAnswering from the checkpoint of a model that you expect to be exactly identical (initializing a BertForSequenceClassification model from a BertForSequenceClassification model).\n"
     ]
    }
   ],
   "source": [
    "tokenizer = BertTokenizer.from_pretrained('bert-large-uncased-whole-word-masking-finetuned-squad')\n",
    "QA = BertForQuestionAnswering.from_pretrained('bert-large-uncased-whole-word-masking-finetuned-squad')\n",
    "model = BertModel.from_pretrained('bert-large-uncased-whole-word-masking-finetuned-squad')"
   ]
  },
  {
   "cell_type": "code",
   "execution_count": 62,
   "id": "c731f1a3",
   "metadata": {},
   "outputs": [],
   "source": [
    "def embed(text,pool=False):\n",
    "    tokens = tokenizer(text,return_tensors=\"pt\")\n",
    "    outputs = model(**tokens)\n",
    "    \n",
    "    if pool:\n",
    "        return tokens,outputs[\"pooler_output\"]\n",
    "    return tokens,outputs[\"last_hidden_state\"]"
   ]
  },
  {
   "cell_type": "code",
   "execution_count": 63,
   "id": "16b2bcea",
   "metadata": {},
   "outputs": [],
   "source": [
    "context= \"\"\"The output of thesis course in BINUS is to publish the thesis paper at reputable international scholarly publication. To achieve this goal, thesis paper in the International Relations Program is structured as scholarly literature, like academic journal article or conference paper.\n",
    "\n",
    "There are two thesis schemes that students can choose: (1) regular/non-class scheme (nonkelas) and (2) scholarly article scheme (artikel ilmiah).\n",
    "\n",
    "There are two thesis course schemes that students can choose: (1) 6-credit Thesis course and (2) 2+4-credit Pre-Thesis and Thesis courses.\n",
    "\n",
    "Output of Thesis Course: Scholarly Publication\n",
    "Students are expected to submit their thesis paper at reputable international scholarly publication, either by co-authoring with their supervisors or as single author.\n",
    "\n",
    "Examples of students’ thesis-based scholarly publication: download here\n",
    "\n",
    "Format of Thesis Paper: Scholarly Literature\n",
    "Thesis paper is structured as scholarly literature, like academic journal article or conference paper, not in chapters. The sections are:\n",
    "\n",
    "Abstract\n",
    "Introduction\n",
    "Literature Review\n",
    "Research Method\n",
    "Findings, Analysis, and Discussion\n",
    "Conclusion\n",
    "Bibliography/References\n",
    "Thesis word count is as a journal article or conference paper; approximately 5,000-8,000 words.\n",
    "\n",
    "Thesis Schemes\n",
    "There are two thesis schemes that students can choose: (1) regular/non-class scheme (nonkelas) and (2) scholarly article scheme (artikel ilmiah).\n",
    "\n",
    "In the regular/non-class scheme (nonkelas), students finish writing their thesis, submit the thesis soft cover, undergo thesis defense, and finally submit the thesis paper to scholarly publication (academic journal or conference) after the process is complete. The thesis is graded based on the thesis content, supervisory process, and thesis defense process.\n",
    "\n",
    "In the scholarly article scheme (artikel ilmiah), students finish writing their thesis and submit the thesis paper to scholarly publication (academic journal or conference) before submitting the thesis soft cover and undergo thesis defense. The thesis defense is in the form of poster presentation. The thesis is graded based on the status of submission at scholarly publication (submitted, under review, revised, or accepted).\n",
    "\n",
    "Thesis Course Schemes\n",
    "There are two thesis course schemes that students can choose: (1) 6-credit Thesis course and (2) 2+4-credit Pre-Thesis and Thesis courses.\n",
    "\n",
    "The 6-credit Thesis course is the thesis course that students take in one semester.\n",
    "\n",
    "The 2+4-credit Pre-Thesis and Thesis courses are two courses that students take in two different semesters but are considered as one thesis course. Students first take the 2-credit Pre-Thesis course with thesis proposal as the output. In the next semester, students take the 4-credit Thesis course. With this scheme, students can take thesis courses at the same semester as 3+1 enrichment programs or the Kampus Merdeka program, and outstanding students can aim to graduate in 7 semesters. The requirement to choose this scheme is a GPA greater than or equal to 3.25.\n",
    "\n",
    "How to Sign Up for Thesis?\n",
    "Students must sign up for thesis to the International Relations Program at the same time as registering to SSC. Students register to the International Relations Program to get supervisory and to SSC to get enrollment status.\n",
    "\n",
    "For the 2023/2024 even semester, students sign up for thesis to the International Relations Program by filling out the Thesis Registration Form [https://bit.ly/regskripsiHIBNgenap2324].\n",
    "\n",
    "After filling out the form, students contact the potential supervisors for their thesis to discuss the choice of thesis scheme, topics, and title.\n",
    "\n",
    "If the lecturers agree to be their thesis supervisor, students fill out the Thesis Supervisory Form [https://bit.ly/bimbinganskripsiHIBNgenap2324].\n",
    "\n",
    "Based on the form responses, the International Relations Program will issue a Thesis Supervisor Appointment Letter (Surat Penunjukan Pembimbing Skripsi/SPP).\n",
    "\n",
    "Who Can Be Thesis Supervisors?\n",
    "As of the 2023/2024 odd semester, thesis supervisors at the International Relations Program are:\"\"\""
   ]
  },
  {
   "cell_type": "code",
   "execution_count": 81,
   "id": "32ae71fe",
   "metadata": {},
   "outputs": [],
   "source": [
    "contexts = sent_tokenize(context)\n",
    "knowledge = []\n",
    "for i in contexts:\n",
    "    knowledge.append(embed(i,pool=False)[1])"
   ]
  },
  {
   "cell_type": "code",
   "execution_count": 82,
   "id": "941936cd",
   "metadata": {},
   "outputs": [],
   "source": [
    "max_dim = max(tensor.size(1) for tensor in knowledge)\n",
    "padded_tensors = [torch.nn.functional.pad(tensor, (0, 0, 0, max_dim - tensor.size(1))) for tensor in knowledge]"
   ]
  },
  {
   "cell_type": "code",
   "execution_count": 83,
   "id": "9e8bcbd5",
   "metadata": {
    "scrolled": true
   },
   "outputs": [],
   "source": [
    "knowledge = torch.stack(padded_tensors,dim=1)[0]"
   ]
  },
  {
   "cell_type": "code",
   "execution_count": 99,
   "id": "bf6b0f50",
   "metadata": {},
   "outputs": [
    {
     "name": "stdout",
     "output_type": "stream",
     "text": [
      "(1537, 1024)\n"
     ]
    }
   ],
   "source": [
    "print(knowledge.shape)"
   ]
  },
  {
   "cell_type": "code",
   "execution_count": 84,
   "id": "eb01a545",
   "metadata": {},
   "outputs": [],
   "source": [
    "knowledge = knowledge.detach().numpy()"
   ]
  },
  {
   "cell_type": "code",
   "execution_count": 85,
   "id": "48fe88ac",
   "metadata": {},
   "outputs": [],
   "source": [
    "class XFaiss(faiss.IndexFlatL2):\n",
    "    \n",
    "    def __init__(self,d):\n",
    "        super(XFaiss,self).__init__(d)\n",
    "        self.dict = {}\n",
    "        \n",
    "    def feed(self,data:[[str,torch.tensor]]):\n",
    "        for i in data:\n",
    "            self.dict[tuple(i[1])]=i[0]\n",
    "    \n",
    "    def get(self,tensors):\n",
    "        l = []\n",
    "        for i in tensors:\n",
    "            l.append(self.dict[tuple(i)])\n",
    "        return l"
   ]
  },
  {
   "cell_type": "code",
   "execution_count": 100,
   "id": "ba910d73",
   "metadata": {},
   "outputs": [
    {
     "name": "stdout",
     "output_type": "stream",
     "text": [
      "(1537, 1024)\n"
     ]
    }
   ],
   "source": [
    "print(knowledge.shape)"
   ]
  },
  {
   "cell_type": "code",
   "execution_count": 88,
   "id": "29601d77",
   "metadata": {
    "scrolled": false
   },
   "outputs": [],
   "source": [
    "index = XFaiss(1024)\n",
    "knowledge = knowledge.reshape(1537,1024)\n",
    "index.add(knowledge)"
   ]
  },
  {
   "cell_type": "code",
   "execution_count": 89,
   "id": "4acf8c5f",
   "metadata": {},
   "outputs": [
    {
     "name": "stdout",
     "output_type": "stream",
     "text": [
      "The output of thesis course in BINUS is to publish the thesis paper at reputable international scholarly publication.\n"
     ]
    }
   ],
   "source": [
    "for i in zip(contexts,knowledge):\n",
    "    print(i[0])\n",
    "    break"
   ]
  },
  {
   "cell_type": "code",
   "execution_count": 90,
   "id": "051d6f82",
   "metadata": {
    "scrolled": false
   },
   "outputs": [],
   "source": [
    "index.feed(zip(contexts,knowledge))"
   ]
  },
  {
   "cell_type": "code",
   "execution_count": 91,
   "id": "097448cd",
   "metadata": {},
   "outputs": [
    {
     "name": "stdout",
     "output_type": "stream",
     "text": [
      "(1, 10, 1024)\n"
     ]
    }
   ],
   "source": [
    "print(qq.shape)"
   ]
  },
  {
   "cell_type": "code",
   "execution_count": 92,
   "id": "c3f36434",
   "metadata": {
    "scrolled": true
   },
   "outputs": [],
   "source": [
    "q = \"what is the format of thesis paper?\"\n",
    "qq = embed(q,pool=False)[1]\n",
    "qq = qq.detach().numpy()\n",
    "qq_flattened = qq.reshape(10, 1024)\n",
    "docs = index.search(qq_flattened,k=5)"
   ]
  },
  {
   "cell_type": "code",
   "execution_count": 109,
   "id": "0ad89b5a",
   "metadata": {},
   "outputs": [],
   "source": [
    "nearest_neighbor_vectors = [knowledge[i] for i in docs[1]]"
   ]
  },
  {
   "cell_type": "code",
   "execution_count": 105,
   "id": "c88e3e79",
   "metadata": {},
   "outputs": [
    {
     "data": {
      "text/plain": [
       "['As of the 2023/2024 odd semester, thesis supervisors at the International Relations Program are:',\n",
       " 'As of the 2023/2024 odd semester, thesis supervisors at the International Relations Program are:',\n",
       " 'As of the 2023/2024 odd semester, thesis supervisors at the International Relations Program are:',\n",
       " 'As of the 2023/2024 odd semester, thesis supervisors at the International Relations Program are:',\n",
       " 'As of the 2023/2024 odd semester, thesis supervisors at the International Relations Program are:']"
      ]
     },
     "execution_count": 105,
     "metadata": {},
     "output_type": "execute_result"
    }
   ],
   "source": [
    "index.get(nearest_neighbor_vectors[1])"
   ]
  },
  {
   "cell_type": "code",
   "execution_count": 95,
   "id": "e08a97b9",
   "metadata": {},
   "outputs": [
    {
     "data": {
      "text/plain": [
       "array([[ 68.15952 ,  68.16352 ,  79.38574 ,  79.388824, 129.72043 ],\n",
       "       [414.11343 , 414.11343 , 414.11343 , 414.11343 , 414.11343 ],\n",
       "       [337.55252 , 350.7325  , 367.71405 , 368.84735 , 383.64676 ],\n",
       "       [259.1419  , 276.4521  , 277.08783 , 288.90497 , 295.01498 ],\n",
       "       [343.18805 , 356.91388 , 358.77008 , 361.2231  , 362.87317 ],\n",
       "       [201.95071 , 209.63611 , 229.04234 , 246.68433 , 263.73993 ],\n",
       "       [156.94131 , 162.63782 , 164.65952 , 170.07416 , 177.76169 ],\n",
       "       [188.38535 , 191.7175  , 196.33458 , 197.08884 , 199.54501 ],\n",
       "       [118.83496 , 132.80801 , 266.09686 , 268.88138 , 279.1639  ],\n",
       "       [ 68.15683 ,  68.16081 ,  79.38101 ,  79.38412 , 129.71382 ]],\n",
       "      dtype=float32)"
      ]
     },
     "execution_count": 95,
     "metadata": {},
     "output_type": "execute_result"
    }
   ],
   "source": [
    "docs[0]"
   ]
  },
  {
   "cell_type": "code",
   "execution_count": null,
   "id": "b8ea3671",
   "metadata": {},
   "outputs": [],
   "source": []
  }
 ],
 "metadata": {
  "kernelspec": {
   "display_name": "Python 3 (ipykernel)",
   "language": "python",
   "name": "python3"
  },
  "language_info": {
   "codemirror_mode": {
    "name": "ipython",
    "version": 3
   },
   "file_extension": ".py",
   "mimetype": "text/x-python",
   "name": "python",
   "nbconvert_exporter": "python",
   "pygments_lexer": "ipython3",
   "version": "3.8.18"
  }
 },
 "nbformat": 4,
 "nbformat_minor": 5
}
