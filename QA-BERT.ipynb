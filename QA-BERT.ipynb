{
 "cells": [
  {
   "cell_type": "code",
   "execution_count": 1,
   "id": "80cefe3d",
   "metadata": {},
   "outputs": [],
   "source": [
    "from transformers import BertTokenizer, TFBertModel,BertForQuestionAnswering,BertForMaskedLM\n",
    "from transformers import T5ForConditionalGeneration, T5Tokenizer\n",
    "from transformers import pipeline\n",
    "import logging\n",
    "import tensorflow as tf\n",
    "import torch\n",
    "\n",
    "# Set the logging level to WARNING (or ERROR) to suppress the warning\n",
    "logging.getLogger(\"transformers.modeling_utils\").setLevel(logging.WARNING)"
   ]
  },
  {
   "cell_type": "code",
   "execution_count": 2,
   "id": "507cca51",
   "metadata": {},
   "outputs": [
    {
     "name": "stderr",
     "output_type": "stream",
     "text": [
      "Special tokens have been added in the vocabulary, make sure the associated word embeddings are fine-tuned or trained.\n"
     ]
    }
   ],
   "source": [
    "tokenizer = BertTokenizer.from_pretrained('./pretrained')\n",
    "QA = BertForQuestionAnswering.from_pretrained(\"./QA_model\")\n",
    "typo_fix = T5ForConditionalGeneration.from_pretrained(\"./typo\")\n",
    "typo_tokenizer = T5Tokenizer.from_pretrained(\"./typo_tokenizer\")"
   ]
  },
  {
   "cell_type": "code",
   "execution_count": 3,
   "id": "6ff3c063",
   "metadata": {},
   "outputs": [
    {
     "data": {
      "text/plain": [
       "('./typo_tokenizer\\\\tokenizer_config.json',\n",
       " './typo_tokenizer\\\\special_tokens_map.json',\n",
       " './typo_tokenizer\\\\spiece.model',\n",
       " './typo_tokenizer\\\\added_tokens.json')"
      ]
     },
     "execution_count": 3,
     "metadata": {},
     "output_type": "execute_result"
    }
   ],
   "source": [
    "typo_tokenizer.save_pretrained(\"./typo_tokenizer\")"
   ]
  },
  {
   "cell_type": "code",
   "execution_count": null,
   "id": "597915e7",
   "metadata": {},
   "outputs": [],
   "source": [
    "sentence = \"Ths is an exmple sentence with typos\"\n",
    "input_ids = tokenizer.encode(sentence, return_tensors='pt')\n",
    "mask_idx = input_ids[0].tolist().index(tokenizer.mask_token_id)\n",
    "input_ids[0, mask_idx] = tokenizer.mask_token_id\n",
    "outputs = typo_fix(input_ids)\n",
    "predictions = outputs[0][0, mask_idx].topk(5)\n",
    "input_ids[0, mask_idx] = predictions.indices[0].item()\n",
    "fixed_sent = tokenizer.decode(input_ids[0])\n",
    "print(fixed_sent)"
   ]
  },
  {
   "cell_type": "code",
   "execution_count": 19,
   "id": "ec309863",
   "metadata": {},
   "outputs": [
    {
     "ename": "NameError",
     "evalue": "name 'gen_ids' is not defined",
     "output_type": "error",
     "traceback": [
      "\u001b[1;31m---------------------------------------------------------------------------\u001b[0m",
      "\u001b[1;31mNameError\u001b[0m                                 Traceback (most recent call last)",
      "\u001b[1;32m~\\AppData\\Local\\Temp/ipykernel_25524/2627013549.py\u001b[0m in \u001b[0;36m<module>\u001b[1;34m\u001b[0m\n\u001b[0;32m     17\u001b[0m \u001b[0minput_ids\u001b[0m \u001b[1;33m=\u001b[0m \u001b[0mtypo_tokenizer\u001b[0m\u001b[1;33m(\u001b[0m\u001b[0msentence\u001b[0m\u001b[1;33m,\u001b[0m\u001b[0mreturn_tensors\u001b[0m \u001b[1;33m=\u001b[0m \u001b[1;34m\"pt\"\u001b[0m\u001b[1;33m)\u001b[0m\u001b[1;33m[\u001b[0m\u001b[1;34m\"input_ids\"\u001b[0m\u001b[1;33m]\u001b[0m\u001b[1;33m\u001b[0m\u001b[1;33m\u001b[0m\u001b[0m\n\u001b[0;32m     18\u001b[0m \u001b[0mgenerated_ids\u001b[0m \u001b[1;33m=\u001b[0m \u001b[0mtypo_fix\u001b[0m\u001b[1;33m.\u001b[0m\u001b[0mgenerate\u001b[0m\u001b[1;33m(\u001b[0m\u001b[0minput_ids\u001b[0m\u001b[1;33m)\u001b[0m\u001b[1;33m\u001b[0m\u001b[1;33m\u001b[0m\u001b[0m\n\u001b[1;32m---> 19\u001b[1;33m \u001b[0mgen_ids\u001b[0m\u001b[1;33m\u001b[0m\u001b[1;33m\u001b[0m\u001b[0m\n\u001b[0m\u001b[0;32m     20\u001b[0m \u001b[1;33m\u001b[0m\u001b[0m\n\u001b[0;32m     21\u001b[0m \u001b[1;31m# fixed_sentence = typo_correction(sentence)\u001b[0m\u001b[1;33m\u001b[0m\u001b[1;33m\u001b[0m\u001b[0m\n",
      "\u001b[1;31mNameError\u001b[0m: name 'gen_ids' is not defined"
     ]
    }
   ],
   "source": [
    "from transformers import T5ForConditionalGeneration, T5Tokenizer\n",
    "\n",
    "def typo_correction(input_sentence):\n",
    "\n",
    "    input_sequence = f\"fix typo: {input_sentence}\"\n",
    "    input_ids = typo_tokenizer(input_sequence, return_tensors=\"pt\").input_ids\n",
    "\n",
    "    # Generate the corrected sequence\n",
    "    generated_ids = typo_fix.generate(input_ids)\n",
    "\n",
    "    # Decode the generated sequence\n",
    "    corrected_sentence = typo_tokenizer.decode(generated_ids[0], skip_special_tokens=True)\n",
    "\n",
    "    return corrected_sentence\n",
    "\n",
    "sentence = \"Ths is an exmple sentence with typos\"\n",
    "input_ids = typo_tokenizer(sentence,return_tensors = \"pt\")[\"input_ids\"]\n",
    "generated_ids = typo_fix.generate(input_ids)\n",
    "gen_ids\n",
    "\n",
    "# fixed_sentence = typo_correction(sentence)\n",
    "# print(\"Original sentence:\", sentence)\n",
    "# print(\"Corrected sentence:\", fixed_sentence)"
   ]
  },
  {
   "cell_type": "code",
   "execution_count": null,
   "id": "1cd62b3e",
   "metadata": {},
   "outputs": [],
   "source": [
    "from transformers import BertTokenizer, BertForMaskedLM\n",
    "\n",
    "def typo_correction(input_sentence, mask_idx, model):\n",
    "    tokenizer = BertTokenizer.from_pretrained('./pretrained')\n",
    "    \n",
    "    input_ids = tokenizer.encode(input_sentence, return_tensors='pt')\n",
    "    input_ids[0, mask_idx] = tokenizer.mask_token_id\n",
    "    \n",
    "    outputs = model(input_ids)\n",
    "    predictions = outputs[0][0, mask_idx].topk(5)\n",
    "    input_ids[0, mask_idx] = predictions.indices[0].item()\n",
    "    \n",
    "    fixed_sent = tokenizer.decode(input_ids[0], skip_special_tokens=True)\n",
    "    return fixed_sent\n",
    "\n",
    "# Example usage\n",
    "sentence = \"Ths is an exmple sentence with typos\"\n",
    "mask_idx = 6  # Adjust based on the position of the typo\n",
    "fixed_sentence = typo_correction(sentence, mask_idx, typo_fix)\n",
    "print(\"Original sentence:\", sentence)\n",
    "print(\"Corrected sentence:\", fixed_sentence)"
   ]
  },
  {
   "cell_type": "code",
   "execution_count": 8,
   "id": "77092080",
   "metadata": {},
   "outputs": [
    {
     "data": {
      "text/plain": [
       "'b'"
      ]
     },
     "execution_count": 8,
     "metadata": {},
     "output_type": "execute_result"
    }
   ],
   "source": [
    "question = \"Who is te daughter of A?\"\n",
    "answer =\"\"\"B'S Father's C and her mother is A\"\"\"\n",
    "inputs = tokenizer(question, answer, return_tensors=\"pt\")\n",
    "\n",
    "outputs = QA(**inputs)\n",
    "start_scores = outputs.start_logits\n",
    "end_scores = outputs.end_logits\n",
    "\n",
    "start_index = torch.argmax(start_scores)\n",
    "end_index = torch.argmax(end_scores)\n",
    "\n",
    "answer_tokens = inputs[\"input_ids\"][0][start_index:end_index + 1]\n",
    "answer = tokenizer.decode(answer_tokens, skip_special_tokens=True)\n",
    "answer"
   ]
  },
  {
   "cell_type": "code",
   "execution_count": null,
   "id": "02b6b0cc",
   "metadata": {},
   "outputs": [],
   "source": []
  }
 ],
 "metadata": {
  "kernelspec": {
   "display_name": "Python 3 (ipykernel)",
   "language": "python",
   "name": "python3"
  },
  "language_info": {
   "codemirror_mode": {
    "name": "ipython",
    "version": 3
   },
   "file_extension": ".py",
   "mimetype": "text/x-python",
   "name": "python",
   "nbconvert_exporter": "python",
   "pygments_lexer": "ipython3",
   "version": "3.9.7"
  }
 },
 "nbformat": 4,
 "nbformat_minor": 5
}
