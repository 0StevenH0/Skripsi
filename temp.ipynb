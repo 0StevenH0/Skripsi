{
 "cells": [
  {
   "cell_type": "code",
   "execution_count": 11,
   "id": "5ec0647f",
   "metadata": {},
   "outputs": [],
   "source": [
    "from transformers import BertTokenizer, TFBertModel,BertForQuestionAnswering,BertForMaskedLM,BertModel\n",
    "from transformers import T5ForConditionalGeneration, T5Tokenizer\n",
    "from transformers import pipeline\n",
    "import logging\n",
    "import tensorflow as tf\n",
    "import torch\n",
    "from nltk.tokenize import sent_tokenize\n",
    "import faiss\n",
    "import numpy as np\n",
    "\n",
    "logging.getLogger(\"transformers.modeling_utils\").setLevel(logging.WARNING)"
   ]
  },
  {
   "cell_type": "code",
   "execution_count": 34,
   "id": "a3be0419",
   "metadata": {},
   "outputs": [
    {
     "name": "stderr",
     "output_type": "stream",
     "text": [
      "Special tokens have been added in the vocabulary, make sure the associated word embeddings are fine-tuned or trained.\n"
     ]
    }
   ],
   "source": [
    "tokenizer = BertTokenizer.from_pretrained('./pretrained')\n",
    "QA = BertForQuestionAnswering.from_pretrained(\"./QA_model\")\n",
    "model = BertModel.from_pretrained(\"./model\")"
   ]
  },
  {
   "cell_type": "code",
   "execution_count": 35,
   "id": "8d5d67e9",
   "metadata": {},
   "outputs": [],
   "source": [
    "def embed(text,pool=False):\n",
    "    tokens = tokenizer(text,return_tensors=\"pt\")\n",
    "    outputs = model(**tokens)\n",
    "    \n",
    "    if pool:\n",
    "        return tokens,outputs[\"pooler_output\"]\n",
    "    return tokens,outputs[\"last_hidden_state\"]"
   ]
  },
  {
   "cell_type": "code",
   "execution_count": 36,
   "id": "bc1edcad",
   "metadata": {},
   "outputs": [],
   "source": [
    "context= \"\"\"The output of thesis course in BINUS is to publish the thesis paper at reputable international scholarly publication. To achieve this goal, thesis paper in the International Relations Program is structured as scholarly literature, like academic journal article or conference paper.\n",
    "\n",
    "There are two thesis schemes that students can choose: (1) regular/non-class scheme (nonkelas) and (2) scholarly article scheme (artikel ilmiah).\n",
    "\n",
    "There are two thesis course schemes that students can choose: (1) 6-credit Thesis course and (2) 2+4-credit Pre-Thesis and Thesis courses.\n",
    "\n",
    "Output of Thesis Course: Scholarly Publication\n",
    "Students are expected to submit their thesis paper at reputable international scholarly publication, either by co-authoring with their supervisors or as single author.\n",
    "\n",
    "Examples of students’ thesis-based scholarly publication: download here\n",
    "\n",
    "Format of Thesis Paper: Scholarly Literature\n",
    "Thesis paper is structured as scholarly literature, like academic journal article or conference paper, not in chapters. The sections are:\n",
    "\n",
    "Abstract\n",
    "Introduction\n",
    "Literature Review\n",
    "Research Method\n",
    "Findings, Analysis, and Discussion\n",
    "Conclusion\n",
    "Bibliography/References\n",
    "Thesis word count is as a journal article or conference paper; approximately 5,000-8,000 words.\n",
    "\n",
    "Thesis Schemes\n",
    "There are two thesis schemes that students can choose: (1) regular/non-class scheme (nonkelas) and (2) scholarly article scheme (artikel ilmiah).\n",
    "\n",
    "In the regular/non-class scheme (nonkelas), students finish writing their thesis, submit the thesis soft cover, undergo thesis defense, and finally submit the thesis paper to scholarly publication (academic journal or conference) after the process is complete. The thesis is graded based on the thesis content, supervisory process, and thesis defense process.\n",
    "\n",
    "In the scholarly article scheme (artikel ilmiah), students finish writing their thesis and submit the thesis paper to scholarly publication (academic journal or conference) before submitting the thesis soft cover and undergo thesis defense. The thesis defense is in the form of poster presentation. The thesis is graded based on the status of submission at scholarly publication (submitted, under review, revised, or accepted).\n",
    "\n",
    "Thesis Course Schemes\n",
    "There are two thesis course schemes that students can choose: (1) 6-credit Thesis course and (2) 2+4-credit Pre-Thesis and Thesis courses.\n",
    "\n",
    "The 6-credit Thesis course is the thesis course that students take in one semester.\n",
    "\n",
    "The 2+4-credit Pre-Thesis and Thesis courses are two courses that students take in two different semesters but are considered as one thesis course. Students first take the 2-credit Pre-Thesis course with thesis proposal as the output. In the next semester, students take the 4-credit Thesis course. With this scheme, students can take thesis courses at the same semester as 3+1 enrichment programs or the Kampus Merdeka program, and outstanding students can aim to graduate in 7 semesters. The requirement to choose this scheme is a GPA greater than or equal to 3.25.\n",
    "\n",
    "How to Sign Up for Thesis?\n",
    "Students must sign up for thesis to the International Relations Program at the same time as registering to SSC. Students register to the International Relations Program to get supervisory and to SSC to get enrollment status.\n",
    "\n",
    "For the 2023/2024 even semester, students sign up for thesis to the International Relations Program by filling out the Thesis Registration Form [https://bit.ly/regskripsiHIBNgenap2324].\n",
    "\n",
    "After filling out the form, students contact the potential supervisors for their thesis to discuss the choice of thesis scheme, topics, and title.\n",
    "\n",
    "If the lecturers agree to be their thesis supervisor, students fill out the Thesis Supervisory Form [https://bit.ly/bimbinganskripsiHIBNgenap2324].\n",
    "\n",
    "Based on the form responses, the International Relations Program will issue a Thesis Supervisor Appointment Letter (Surat Penunjukan Pembimbing Skripsi/SPP).\n",
    "\n",
    "Who Can Be Thesis Supervisors?\n",
    "As of the 2023/2024 odd semester, thesis supervisors at the International Relations Program are:\"\"\""
   ]
  },
  {
   "cell_type": "code",
   "execution_count": 37,
   "id": "2b4a3240",
   "metadata": {},
   "outputs": [],
   "source": [
    "contexts = sent_tokenize(context)\n",
    "knowledge = []\n",
    "for i in contexts:\n",
    "    knowledge.append(embed(i,pool=True)[1])"
   ]
  },
  {
   "cell_type": "code",
   "execution_count": 49,
   "id": "1d5735f3",
   "metadata": {
    "scrolled": true
   },
   "outputs": [],
   "source": [
    "knowledge = torch.stack(knowledge,dim=1)[0]"
   ]
  },
  {
   "cell_type": "code",
   "execution_count": 57,
   "id": "85c5558e",
   "metadata": {},
   "outputs": [],
   "source": [
    "knowledge = knowledge.detach().numpy()"
   ]
  },
  {
   "cell_type": "code",
   "execution_count": 137,
   "id": "bf167129",
   "metadata": {},
   "outputs": [],
   "source": [
    "class XFaiss(faiss.IndexFlatL2):\n",
    "    \n",
    "    def __init__(self,d):\n",
    "        super(XFaiss,self).__init__(d)\n",
    "        self.dict = {}\n",
    "        \n",
    "    def feed(self,data:[[str,torch.tensor]]):\n",
    "        for i in data:\n",
    "            self.dict[tuple(i[1])]=i[0]\n",
    "    \n",
    "    def get(self,tensors):\n",
    "        l = []\n",
    "        for i in tensors:\n",
    "            l.append(self.dict[tuple(i)])\n",
    "        return l"
   ]
  },
  {
   "cell_type": "code",
   "execution_count": 138,
   "id": "1b1a1c98",
   "metadata": {
    "scrolled": false
   },
   "outputs": [],
   "source": [
    "index = XFaiss(1024)\n",
    "index.add(knowledge)"
   ]
  },
  {
   "cell_type": "code",
   "execution_count": 139,
   "id": "a2701870",
   "metadata": {},
   "outputs": [
    {
     "name": "stdout",
     "output_type": "stream",
     "text": [
      "The output of thesis course in BINUS is to publish the thesis paper at reputable international scholarly publication.\n"
     ]
    }
   ],
   "source": [
    "for i in zip(contexts,knowledge):\n",
    "    print(i[0])\n",
    "    break"
   ]
  },
  {
   "cell_type": "code",
   "execution_count": 140,
   "id": "cb3c0021",
   "metadata": {
    "scrolled": false
   },
   "outputs": [],
   "source": [
    "index.feed(zip(contexts,knowledge))"
   ]
  },
  {
   "cell_type": "code",
   "execution_count": 141,
   "id": "eae617ea",
   "metadata": {},
   "outputs": [],
   "source": [
    "q = \"what is the format of thesis paper?\"\n",
    "qq = embed(q,pool=True)[1]\n",
    "qq = qq.detach().numpy()\n",
    "docs = index.search(qq,k=5)"
   ]
  },
  {
   "cell_type": "code",
   "execution_count": 142,
   "id": "71214717",
   "metadata": {},
   "outputs": [],
   "source": [
    "nearest_neighbor_vectors = [knowledge[i] for i in docs[1]]"
   ]
  },
  {
   "cell_type": "code",
   "execution_count": 143,
   "id": "a3e41a4c",
   "metadata": {},
   "outputs": [
    {
     "data": {
      "text/plain": [
       "['How to Sign Up for Thesis?',\n",
       " 'Who Can Be Thesis Supervisors?',\n",
       " 'Students register to the International Relations Program to get supervisory and to SSC to get enrollment status.',\n",
       " 'The output of thesis course in BINUS is to publish the thesis paper at reputable international scholarly publication.',\n",
       " 'The 6-credit Thesis course is the thesis course that students take in one semester.']"
      ]
     },
     "execution_count": 143,
     "metadata": {},
     "output_type": "execute_result"
    }
   ],
   "source": [
    "index.get(nearest_neighbor_vectors[0])"
   ]
  },
  {
   "cell_type": "code",
   "execution_count": 146,
   "id": "9aadaca9",
   "metadata": {},
   "outputs": [
    {
     "data": {
      "text/plain": [
       "array([[12.801563, 18.83541 , 22.850504, 22.960098, 23.374928]],\n",
       "      dtype=float32)"
      ]
     },
     "execution_count": 146,
     "metadata": {},
     "output_type": "execute_result"
    }
   ],
   "source": [
    "docs[0]"
   ]
  }
 ],
 "metadata": {
  "kernelspec": {
   "display_name": "Python 3 (ipykernel)",
   "language": "python",
   "name": "python3"
  },
  "language_info": {
   "codemirror_mode": {
    "name": "ipython",
    "version": 3
   },
   "file_extension": ".py",
   "mimetype": "text/x-python",
   "name": "python",
   "nbconvert_exporter": "python",
   "pygments_lexer": "ipython3",
   "version": "3.9.7"
  }
 },
 "nbformat": 4,
 "nbformat_minor": 5
}
