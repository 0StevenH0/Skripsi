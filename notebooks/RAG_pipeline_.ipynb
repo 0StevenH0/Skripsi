{
 "cells": [
  {
   "cell_type": "code",
   "execution_count": 1,
   "id": "5ec0647f",
   "metadata": {},
   "outputs": [],
   "source": [
    "from transformers import BertTokenizer, TFBertModel,BertForQuestionAnswering,BertForMaskedLM,BertModel\n",
    "from transformers import T5ForConditionalGeneration, T5Tokenizer\n",
    "from transformers import pipeline\n",
    "import logging\n",
    "import tensorflow as tf\n",
    "import torch\n",
    "from nltk.tokenize import sent_tokenize\n",
    "import faiss\n",
    "import numpy as np\n",
    "\n",
    "logging.getLogger(\"transformers.modeling_utils\").setLevel(logging.WARNING)"
   ]
  },
  {
   "cell_type": "code",
   "execution_count": 2,
   "id": "a3be0419",
   "metadata": {},
   "outputs": [],
   "source": [
    "tokenizer = BertTokenizer.from_pretrained('./pretrained')\n",
    "QA = BertForQuestionAnswering.from_pretrained(\"./QA_model\")\n",
    "model = BertModel.from_pretrained(\"./model\")"
   ]
  },
  {
   "cell_type": "code",
   "execution_count": 83,
   "id": "8d5d67e9",
   "metadata": {},
   "outputs": [],
   "source": [
    "def embed(text,pool=False):\n",
    "    tokens = tokenizer(text,return_tensors=\"pt\", truncation=True, padding=True, max_length=2014)\n",
    "    with torch.no_grad():\n",
    "        outputs = model(**tokens)\n",
    "        \n",
    "    if pool:\n",
    "        return tokens,outputs[\"pooler_output\"].numpy()\n",
    "    \n",
    "    return tokens,outputs[\"last_hidden_state\"].numpy()"
   ]
  },
  {
   "cell_type": "code",
   "execution_count": 81,
   "id": "bc1edcad",
   "metadata": {},
   "outputs": [],
   "source": [
    "context= \"\"\"The output of thesis course in BINUS is to publish the thesis paper at reputable international scholarly publication. To achieve this goal, thesis paper in the International Relations Program is structured as scholarly literature, like academic journal article or conference paper.\n",
    "\n",
    "There are two thesis schemes that students can choose: (1) regular/non-class scheme (nonkelas) and (2) scholarly article scheme (artikel ilmiah).\n",
    "\n",
    "There are two thesis course schemes that students can choose: (1) 6-credit Thesis course and (2) 2+4-credit Pre-Thesis and Thesis courses.\n",
    "\n",
    "Output of Thesis Course: Scholarly Publication\n",
    "Students are expected to submit their thesis paper at reputable international scholarly publication, either by co-authoring with their supervisors or as single author.\n",
    "\n",
    "Examples of students’ thesis-based scholarly publication: download here\n",
    "\n",
    "Format of Thesis Paper: Scholarly Literature\n",
    "Thesis paper is structured as scholarly literature, like academic journal article or conference paper, not in chapters. The sections are:\n",
    "\n",
    "Abstract\n",
    "Introduction\n",
    "Literature Review\n",
    "Research Method\n",
    "Findings, Analysis, and Discussion\n",
    "Conclusion\n",
    "Bibliography/References\n",
    "Thesis word count is as a journal article or conference paper; approximately 5,000-8,000 words.\n",
    "\n",
    "Thesis Schemes\n",
    "There are two thesis schemes that students can choose: (1) regular/non-class scheme (nonkelas) and (2) scholarly article scheme (artikel ilmiah).\n",
    "\n",
    "In the regular/non-class scheme (nonkelas), students finish writing their thesis, submit the thesis soft cover, undergo thesis defense, and finally submit the thesis paper to scholarly publication (academic journal or conference) after the process is complete. The thesis is graded based on the thesis content, supervisory process, and thesis defense process.\n",
    "\n",
    "In the scholarly article scheme (artikel ilmiah), students finish writing their thesis and submit the thesis paper to scholarly publication (academic journal or conference) before submitting the thesis soft cover and undergo thesis defense. The thesis defense is in the form of poster presentation. The thesis is graded based on the status of submission at scholarly publication (submitted, under review, revised, or accepted).\n",
    "\n",
    "Thesis Course Schemes\n",
    "There are two thesis course schemes that students can choose: (1) 6-credit Thesis course and (2) 2+4-credit Pre-Thesis and Thesis courses.\n",
    "\n",
    "The 6-credit Thesis course is the thesis course that students take in one semester.\n",
    "\n",
    "The 2+4-credit Pre-Thesis and Thesis courses are two courses that students take in two different semesters but are considered as one thesis course. Students first take the 2-credit Pre-Thesis course with thesis proposal as the output. In the next semester, students take the 4-credit Thesis course. With this scheme, students can take thesis courses at the same semester as 3+1 enrichment programs or the Kampus Merdeka program, and outstanding students can aim to graduate in 7 semesters. The requirement to choose this scheme is a GPA greater than or equal to 3.25.\n",
    "\n",
    "How to Sign Up for Thesis?\n",
    "Students must sign up for thesis to the International Relations Program at the same time as registering to SSC. Students register to the International Relations Program to get supervisory and to SSC to get enrollment status.\n",
    "\n",
    "For the 2023/2024 even semester, students sign up for thesis to the International Relations Program by filling out the Thesis Registration Form [https://bit.ly/regskripsiHIBNgenap2324].\n",
    "\n",
    "After filling out the form, students contact the potential supervisors for their thesis to discuss the choice of thesis scheme, topics, and title.\n",
    "\n",
    "If the lecturers agree to be their thesis supervisor, students fill out the Thesis Supervisory Form [https://bit.ly/bimbinganskripsiHIBNgenap2324].\n",
    "\n",
    "Based on the form responses, the International Relations Program will issue a Thesis Supervisor Appointment Letter (Surat Penunjukan Pembimbing Skripsi/SPP).\n",
    "\n",
    "To complete a major in International Business with either a single or dual degrees (DD), students must complete a minimum of 146 SCUs. Available streaming courses are available in this program, namely: Business in China (DD with Ningbo University), Business in ASEAN (Single Degree), European Management and International Trade (DD with Cologne Business School), Business and Management (DD with Bournemouth University), Commerce, (DD with UNSW or VUW).\n",
    "Overseas study is mandatory for international business students in order to complete the program.  Students may choose any of the following options:\n",
    "The teaching and learning processes are conducted through lectures/tutorials, student centered learning, practical demonstration/presentation and activities, completed with students’ independent study. It is the responsibility of the lecturer of a particular course to facilitate all students’ learning on the course, who can be assisted by a mentor, if necessary. By having qualified lecturers and guest lecturers from professional industries, the students will be able to gain knowledge from both sides, i.e. theoretical and practical frameworks, through in-depth analysis of case studies, and individual/group work projects. For doing their research activities, students can access magazines, books, academic journal in a good quality library – including accessing the online library to get updated academic papers. All course-work are assessed through a variety of assessment tasks such as reports, presentations, assignments, individual and group projects, and thesis/final project report as well as mid-semester and final semester examinations. To further enrich our Bachelor  studies experience we are providing the Enrichment Track in semester 6 or 7, students are able to choose from these various options:-\n",
    "Study Abroad\n",
    "Internship (Local/International)\n",
    "Entrepreneurship\n",
    "Community Development\n",
    "Research\n",
    "A series of extra-curricular activities are compulsory in the International Business Program. These activities will allow students to develop their social awareness, competitive and soft skills needed to be prepared for their future work environment.\n",
    "\n",
    "In addition, the innovation habit will be developed through course assessment that put weight on innovation and entrepreneurial skills. Project Hatchery and Design Driven Entrepreneurship are courses that reflect such competence designed by the Center of Innovation and Entrepreneurship in Binus University International. Students are required to translate their selected innovative ideas into a visible design to comprehend the end-to-end innovation process. This innovation thinking approach is implemented in the teaching, learning, and assessment process of several courses throughout the program.\n",
    "\"\"\""
   ]
  },
  {
   "cell_type": "code",
   "execution_count": 143,
   "id": "2b4a3240",
   "metadata": {},
   "outputs": [],
   "source": [
    "contexts = sent_tokenize(context)\n",
    "knowledge = []\n",
    "for i in contexts:\n",
    "    knowledge.append(embed(i,pool=True)[1])"
   ]
  },
  {
   "cell_type": "code",
   "execution_count": 144,
   "id": "bf87146c",
   "metadata": {},
   "outputs": [],
   "source": [
    "knowledge = np.vstack(knowledge)"
   ]
  },
  {
   "cell_type": "code",
   "execution_count": 139,
   "id": "bf167129",
   "metadata": {},
   "outputs": [],
   "source": [
    "class XFaiss(faiss.IndexIVFPQ):\n",
    "    \n",
    "    def __init__(self,**kwargs):\n",
    "        super(XFaiss,self).__init__(**kwargs)\n",
    "        self.dict = {}\n",
    "        \n",
    "    def feed(self,data:[[str,torch.tensor]]):\n",
    "        for i in data:\n",
    "            self.dict[tuple(i[1])]=i[0]\n",
    "    \n",
    "    def get(self,tensors):\n",
    "        l = []\n",
    "        for i in tensors:\n",
    "            l.append(self.dict[tuple(i)])\n",
    "        return l"
   ]
  },
  {
   "cell_type": "code",
   "execution_count": 109,
   "id": "a4c902a6",
   "metadata": {},
   "outputs": [
    {
     "data": {
      "text/plain": [
       "(42, 1024)"
      ]
     },
     "execution_count": 109,
     "metadata": {},
     "output_type": "execute_result"
    }
   ],
   "source": [
    "knowledge.shape"
   ]
  },
  {
   "cell_type": "code",
   "execution_count": 146,
   "id": "1b1a1c98",
   "metadata": {},
   "outputs": [],
   "source": [
    "quantizer = faiss.IndexFlatL2(1024) \n",
    "index.add(knowledge)"
   ]
  },
  {
   "cell_type": "code",
   "execution_count": 147,
   "id": "eae617ea",
   "metadata": {},
   "outputs": [],
   "source": [
    "q = \"what is the output of thesis course?\"\n",
    "qq = embed(q,pool=True)[1]\n",
    "docs = index.search(qq,k=5)"
   ]
  },
  {
   "cell_type": "code",
   "execution_count": 148,
   "id": "aa322772",
   "metadata": {
    "scrolled": true
   },
   "outputs": [
    {
     "data": {
      "text/plain": [
       "(array([[21.597832, 21.597832, 21.597832, 21.597832, 21.597832]],\n",
       "       dtype=float32),\n",
       " array([[ 29,  71, 113, 155, 197]], dtype=int64))"
      ]
     },
     "execution_count": 148,
     "metadata": {},
     "output_type": "execute_result"
    }
   ],
   "source": [
    "docs"
   ]
  },
  {
   "cell_type": "code",
   "execution_count": 114,
   "id": "736e0f5a",
   "metadata": {},
   "outputs": [
    {
     "data": {
      "text/plain": [
       "'This innovation thinking approach is implemented in the teaching, learning, and assessment process of several courses throughout the program.'"
      ]
     },
     "execution_count": 114,
     "metadata": {},
     "output_type": "execute_result"
    }
   ],
   "source": [
    "contexts[41]"
   ]
  },
  {
   "cell_type": "code",
   "execution_count": 95,
   "id": "71214717",
   "metadata": {},
   "outputs": [
    {
     "ename": "TypeError",
     "evalue": "only integer scalar arrays can be converted to a scalar index",
     "output_type": "error",
     "traceback": [
      "\u001b[1;31m---------------------------------------------------------------------------\u001b[0m",
      "\u001b[1;31mTypeError\u001b[0m                                 Traceback (most recent call last)",
      "\u001b[1;32m~\\AppData\\Local\\Temp/ipykernel_15680/1061999196.py\u001b[0m in \u001b[0;36m<module>\u001b[1;34m\u001b[0m\n\u001b[1;32m----> 1\u001b[1;33m \u001b[0mnearest_neighbor_vectors\u001b[0m \u001b[1;33m=\u001b[0m \u001b[1;33m[\u001b[0m\u001b[0mcontexts\u001b[0m\u001b[1;33m[\u001b[0m\u001b[0mi\u001b[0m\u001b[1;33m]\u001b[0m \u001b[1;32mfor\u001b[0m \u001b[0mi\u001b[0m \u001b[1;32min\u001b[0m \u001b[0mdocs\u001b[0m\u001b[1;33m[\u001b[0m\u001b[1;36m1\u001b[0m\u001b[1;33m]\u001b[0m\u001b[1;33m]\u001b[0m\u001b[1;33m\u001b[0m\u001b[1;33m\u001b[0m\u001b[0m\n\u001b[0m",
      "\u001b[1;32m~\\AppData\\Local\\Temp/ipykernel_15680/1061999196.py\u001b[0m in \u001b[0;36m<listcomp>\u001b[1;34m(.0)\u001b[0m\n\u001b[1;32m----> 1\u001b[1;33m \u001b[0mnearest_neighbor_vectors\u001b[0m \u001b[1;33m=\u001b[0m \u001b[1;33m[\u001b[0m\u001b[0mcontexts\u001b[0m\u001b[1;33m[\u001b[0m\u001b[0mi\u001b[0m\u001b[1;33m]\u001b[0m \u001b[1;32mfor\u001b[0m \u001b[0mi\u001b[0m \u001b[1;32min\u001b[0m \u001b[0mdocs\u001b[0m\u001b[1;33m[\u001b[0m\u001b[1;36m1\u001b[0m\u001b[1;33m]\u001b[0m\u001b[1;33m]\u001b[0m\u001b[1;33m\u001b[0m\u001b[1;33m\u001b[0m\u001b[0m\n\u001b[0m",
      "\u001b[1;31mTypeError\u001b[0m: only integer scalar arrays can be converted to a scalar index"
     ]
    }
   ],
   "source": [
    "nearest_neighbor_vectors = [contexts[i] for i in docs[1]]"
   ]
  },
  {
   "cell_type": "code",
   "execution_count": 76,
   "id": "4d4de7e9",
   "metadata": {},
   "outputs": [
    {
     "data": {
      "text/plain": [
       "[array([[ 0.9359872 , -0.9998128 , -0.44052768, ...,  0.9979662 ,\n",
       "         -0.99989575, -0.11708409],\n",
       "        [ 0.8707633 , -0.9998219 , -0.5060261 , ...,  0.99803436,\n",
       "         -0.9998381 , -0.15273362],\n",
       "        [ 0.8707633 , -0.9998219 , -0.5060261 , ...,  0.99803436,\n",
       "         -0.9998381 , -0.15273362],\n",
       "        [ 0.8707633 , -0.9998219 , -0.5060261 , ...,  0.99803436,\n",
       "         -0.9998381 , -0.15273362],\n",
       "        [ 0.8707633 , -0.9998219 , -0.5060261 , ...,  0.99803436,\n",
       "         -0.9998381 , -0.15273362]], dtype=float32)]"
      ]
     },
     "execution_count": 76,
     "metadata": {},
     "output_type": "execute_result"
    }
   ],
   "source": [
    "nearest_neighbor_vectors"
   ]
  },
  {
   "cell_type": "code",
   "execution_count": 75,
   "id": "a3e41a4c",
   "metadata": {},
   "outputs": [
    {
     "ename": "AttributeError",
     "evalue": "'IndexIVFPQ' object has no attribute 'get'",
     "output_type": "error",
     "traceback": [
      "\u001b[1;31m---------------------------------------------------------------------------\u001b[0m",
      "\u001b[1;31mAttributeError\u001b[0m                            Traceback (most recent call last)",
      "\u001b[1;32m~\\AppData\\Local\\Temp/ipykernel_15680/2804366575.py\u001b[0m in \u001b[0;36m<module>\u001b[1;34m\u001b[0m\n\u001b[1;32m----> 1\u001b[1;33m \u001b[0mindex\u001b[0m\u001b[1;33m.\u001b[0m\u001b[0mget\u001b[0m\u001b[1;33m(\u001b[0m\u001b[0mnearest_neighbor_vectors\u001b[0m\u001b[1;33m[\u001b[0m\u001b[1;36m0\u001b[0m\u001b[1;33m]\u001b[0m\u001b[1;33m)\u001b[0m\u001b[1;33m\u001b[0m\u001b[1;33m\u001b[0m\u001b[0m\n\u001b[0m",
      "\u001b[1;31mAttributeError\u001b[0m: 'IndexIVFPQ' object has no attribute 'get'"
     ]
    }
   ],
   "source": [
    "index.get(nearest_neighbor_vectors[0])"
   ]
  },
  {
   "cell_type": "code",
   "execution_count": 146,
   "id": "9aadaca9",
   "metadata": {},
   "outputs": [
    {
     "data": {
      "text/plain": [
       "array([[12.801563, 18.83541 , 22.850504, 22.960098, 23.374928]],\n",
       "      dtype=float32)"
      ]
     },
     "execution_count": 146,
     "metadata": {},
     "output_type": "execute_result"
    }
   ],
   "source": [
    "docs[0]"
   ]
  }
 ],
 "metadata": {
  "kernelspec": {
   "display_name": "Python 3 (ipykernel)",
   "language": "python",
   "name": "python3"
  },
  "language_info": {
   "codemirror_mode": {
    "name": "ipython",
    "version": 3
   },
   "file_extension": ".py",
   "mimetype": "text/x-python",
   "name": "python",
   "nbconvert_exporter": "python",
   "pygments_lexer": "ipython3",
   "version": "3.9.7"
  }
 },
 "nbformat": 4,
 "nbformat_minor": 5
}
